{
  "nbformat": 4,
  "nbformat_minor": 0,
  "metadata": {
    "colab": {
      "provenance": [],
      "authorship_tag": "ABX9TyM26eNsonmD8BfbH72pxhjY",
      "include_colab_link": true
    },
    "kernelspec": {
      "name": "python3",
      "display_name": "Python 3"
    },
    "language_info": {
      "name": "python"
    }
  },
  "cells": [
    {
      "cell_type": "markdown",
      "metadata": {
        "id": "view-in-github",
        "colab_type": "text"
      },
      "source": [
        "<a href=\"https://colab.research.google.com/github/SalRez0810/2025_PBO_TI1A/blob/main/ProgramJadwalKelas.ipynb\" target=\"_parent\"><img src=\"https://colab.research.google.com/assets/colab-badge.svg\" alt=\"Open In Colab\"/></a>"
      ]
    },
    {
      "cell_type": "code",
      "execution_count": 3,
      "metadata": {
        "id": "jm858BXvD7qf",
        "outputId": "6f6afd0d-2943-4924-f33b-bd083b32b173",
        "colab": {
          "base_uri": "https://localhost:8080/"
        }
      },
      "outputs": [
        {
          "output_type": "stream",
          "name": "stdout",
          "text": [
            "Jadwal ditambahkan: Senin, 08:00 - 10:00 - Pemrograman Python\n",
            "Jadwal ditambahkan: Selasa, 10:00 - 12:00 - Matematika Diskrit\n",
            "Jadwal ditambahkan: Rabu, 13:00 - 15:00 - Struktur Data\n",
            "Jadwal ditambahkan: Kamis, 08:00 - 10:00 - Jaringan Komputer\n",
            "Jadwal ditambahkan: Jumat, 10:00 - 12:00 - Basis Data\n",
            "\n",
            "Jadwal Kelas:\n",
            "1. Senin, 08:00 - 10:00 - Pemrograman Python\n",
            "2. Selasa, 10:00 - 12:00 - Matematika Diskrit\n",
            "3. Rabu, 13:00 - 15:00 - Struktur Data\n",
            "4. Kamis, 08:00 - 10:00 - Jaringan Komputer\n",
            "5. Jumat, 10:00 - 12:00 - Basis Data\n"
          ]
        }
      ],
      "source": [
        "import jadwal\n",
        "\n",
        "class JadwalKelas:\n",
        "    \"\"\"Kelas untuk menyimpan dan mengelola jadwal kelas.\"\"\"\n",
        "\n",
        "    def __init__(self):\n",
        "        self.jadwal_list = []\n",
        "\n",
        "    def tambah_jadwal(self, hari, jam, mata_kuliah):\n",
        "        \"\"\"Menambahkan jadwal ke dalam daftar.\"\"\"\n",
        "        jadwal_terformat = jadwal.format_jadwal(hari, jam, mata_kuliah)\n",
        "        self.jadwal_list.append(jadwal_terformat)\n",
        "        print(f\"Jadwal ditambahkan: {jadwal_terformat}\")\n",
        "\n",
        "    def tampilkan_jadwal(self):\n",
        "        \"\"\"Menampilkan semua jadwal kelas.\"\"\"\n",
        "        if not self.jadwal_list:\n",
        "            print(\"Belum ada jadwal kelas.\")\n",
        "        else:\n",
        "            print(\"\\nJadwal Kelas:\")\n",
        "            for idx, j in enumerate(self.jadwal_list, 1):\n",
        "                print(f\"{idx}. {j}\")\n",
        "\n",
        "def main():\n",
        "    jadwal_kuliah = JadwalKelas()\n",
        "\n",
        "    jadwal_kuliah.tambah_jadwal(\"Senin\", \"08:00 - 10:00\", \"Pemrograman Python\")\n",
        "    jadwal_kuliah.tambah_jadwal(\"Selasa\", \"10:00 - 12:00\", \"Matematika Diskrit\")\n",
        "    jadwal_kuliah.tambah_jadwal(\"Rabu\", \"13:00 - 15:00\", \"Struktur Data\")\n",
        "    jadwal_kuliah.tambah_jadwal(\"Kamis\", \"08:00 - 10:00\", \"Jaringan Komputer\")\n",
        "    jadwal_kuliah.tambah_jadwal(\"Jumat\", \"10:00 - 12:00\", \"Basis Data\")\n",
        "\n",
        "    jadwal_kuliah.tampilkan_jadwal()\n",
        "\n",
        "if __name__ == \"__main__\":\n",
        "    main()"
      ]
    }
  ]
}