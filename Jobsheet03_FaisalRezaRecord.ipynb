{
  "nbformat": 4,
  "nbformat_minor": 0,
  "metadata": {
    "colab": {
      "provenance": [],
      "authorship_tag": "ABX9TyMDfNmEhvAkngIg1e9zEcOD",
      "include_colab_link": true
    },
    "kernelspec": {
      "name": "python3",
      "display_name": "Python 3"
    },
    "language_info": {
      "name": "python"
    }
  },
  "cells": [
    {
      "cell_type": "markdown",
      "metadata": {
        "id": "view-in-github",
        "colab_type": "text"
      },
      "source": [
        "<a href=\"https://colab.research.google.com/github/SalRez0810/2025_PBO_TI1A/blob/main/Jobsheet03_FaisalRezaRecord.ipynb\" target=\"_parent\"><img src=\"https://colab.research.google.com/assets/colab-badge.svg\" alt=\"Open In Colab\"/></a>"
      ]
    },
    {
      "cell_type": "markdown",
      "source": [
        "# **Praktikum 01: Enkapsulasi pada kelas Bank Account**"
      ],
      "metadata": {
        "id": "2PcAn_mhesFj"
      }
    },
    {
      "cell_type": "code",
      "execution_count": 28,
      "metadata": {
        "id": "IFHFekkjeNqm",
        "outputId": "3633f574-e7dd-4d05-e3e9-f3bae19ec26f",
        "colab": {
          "base_uri": "https://localhost:8080/"
        }
      },
      "outputs": [
        {
          "output_type": "stream",
          "name": "stdout",
          "text": [
            "500telah ditambahkan ke akunAlice.\n",
            "jumlah deposit harus lebih dari 0.\n",
            "300telah ditarik dari akunAlice.\n",
            "jumlah deposit harus lebih dari 0.\n",
            "Saldo terakhir di akun Alice: 1200\n"
          ]
        }
      ],
      "source": [
        "class BankAccount:\n",
        "        def __init__(self,owner,balance):\n",
        "              #Atribut dengan double underscore(__)dianggap \"private\" di Python\n",
        "            self.__owner = owner\n",
        "            self.__balance = balance\n",
        "\n",
        "        def deposit(self,amount):\n",
        "            \"\"\"Method untuk menambahkan saldo.\"\"\"\n",
        "            if amount > 0:\n",
        "                  self.__balance += amount\n",
        "                  print(f\"{amount}telah ditambahkan ke akun{self.__owner}.\")\n",
        "            else:\n",
        "                  print(\"jumlah deposit harus lebih dari 0.\")\n",
        "\n",
        "        def withdraw(self,amount):\n",
        "            \"\"\"Method untuk menarik saldo.\"\"\"\n",
        "            if amount <= self.__balance:\n",
        "                  self.__balance-= amount\n",
        "                  print(f\"{amount}telah ditarik dari akun{self.__owner}.\")\n",
        "            else:\n",
        "                  print(\"jumlah deposit harus lebih dari 0.\")\n",
        "\n",
        "        def  get_balance(self):\n",
        "              \"\"\"Method untuk mendapatkan informasi saldo terkini.\"\"\"\n",
        "              return self.__balance\n",
        "\n",
        "#Contoh penggunaan\n",
        "if __name__ == \"__main__\":\n",
        "        #Membuat objek BankAccount dengan owner=\"Alice\"dan balance awal 1000\n",
        "\n",
        "        alice_account = BankAccount(owner=\"Alice\", balance=1000)\n",
        "\n",
        "        #Deposit uang\n",
        "        alice_account.deposit(500)\n",
        "        alice_account.deposit(-100)\n",
        "\n",
        "        #Withdraw uang\n",
        "        alice_account.withdraw(300)\n",
        "        alice_account.withdraw(2000)\n",
        "\n",
        "        #Mendapatkan saldo\n",
        "        current_balance = alice_account.get_balance()\n",
        "        print(f\"Saldo terakhir di akun {alice_account._BankAccount__owner}: {current_balance}\")\n",
        "\n",
        "        #Mencoba mengakses atribut 'private' langsung (tidak direkomendasikan)\n",
        "        #alice_account.__balance #Akan error\n",
        "        #Karena Python \"mangling\" nama atribut __balance menjadi_BankAccount__balance \\\n",
        "        #Ini adalah salah satu mekanisme enkapsulasi sederhana di Python."
      ]
    },
    {
      "cell_type": "markdown",
      "source": [
        "# **Praktikum 02: Enkapsulasi pada kelas Employee**"
      ],
      "metadata": {
        "id": "W0Qz7Kf9qgqK"
      }
    },
    {
      "cell_type": "code",
      "source": [
        "class Employee:\n",
        "    def __init__(self, name, salary):\n",
        "        #Atribut privat dengan double underscore\n",
        "        self._name = name\n",
        "        self.__salary = salary\n",
        "\n",
        "    def update_salary(self, increase):\n",
        "        \"\"\"Method untuk menaikan gaji dengan validasi.\"\"\"\n",
        "        if increase > 0:\n",
        "            self.__salary += increase\n",
        "            print(f\"Gaji telah dinaikkan sebesar {increase}.\")\n",
        "        else:\n",
        "            print(\"nilai kenaikan harus lebih dari 0.\")\n",
        "\n",
        "    def set_salary(self, new_salary) :\n",
        "        \"\"\"Method untuk mengubah gaji dengan validasi.\"\"\"\n",
        "        if new_salary >= 0:\n",
        "            self.__salary = new_salary\n",
        "            print(f\"Gaji diatur ulang menjadi {new_salary}.\")\n",
        "        else:\n",
        "            print(\"Gaji tidak dapat bernilai negatif.\")\n",
        "\n",
        "    def get_salary(self):\n",
        "        \"\"\"Method untuk mendapatkan informasi gaji.\"\"\"\n",
        "        return self.__salary\n",
        "\n",
        "    def get_employee_info(self):\n",
        "        \"\"\"Method untuk menampilkan informasi keryawan secara menyeluruh.\"\"\"\n",
        "        return f\"Employee: {self._name}, Gaji: {self.__salary}\"\n",
        "\n",
        "#Contoh penggunaan\n",
        "if __name__ == \"__main__\":\n",
        "    # Membuat objek Employeee dengan nama \"Jhon Doe\" dan gaji awal 50000\n",
        "    employee1 = Employee(\"Jhon Doe\", 50000)\n",
        "\n",
        "    #Tampilkan informasi karyawan\n",
        "    print (employee1.get_employee_info())\n",
        "\n",
        "    #Update gaji dengan menaikkan sebesar 5000\n",
        "    employee1.update_salary(5000)\n",
        "    print(f\"Gaji setelah kenaikan: {employee1.get_salary()}\")\n",
        "\n",
        "    #Atur ulang gaji dengan nilai baru\n",
        "    employee1.set_salary(60000)\n",
        "    print(f\"Informasi terbaru: {employee1.get_employee_info()}\")\n",
        "\n",
        "    # Mencoba mengakses atribut privat secara langsung (tidak direkomendasikan)\n",
        "    # Contoh: print(employee1._salary) --> ini akan menimbulkan error"
      ],
      "metadata": {
        "id": "6Bvg5Qmvqpk-",
        "outputId": "cc6b7c0a-5f2d-4ca8-cb49-a0e0aa19c377",
        "colab": {
          "base_uri": "https://localhost:8080/"
        }
      },
      "execution_count": 48,
      "outputs": [
        {
          "output_type": "stream",
          "name": "stdout",
          "text": [
            "Employee: Jhon Doe, Gaji: 50000\n",
            "Gaji telah dinaikkan sebesar 5000.\n",
            "Gaji setelah kenaikan: 55000\n",
            "Gaji diatur ulang menjadi 60000.\n",
            "Informasi terbaru: Employee: Jhon Doe, Gaji: 60000\n"
          ]
        }
      ]
    },
    {
      "cell_type": "markdown",
      "source": [
        "# **Praktikum 03: Konstruktor dan Destruktor Sederhana**"
      ],
      "metadata": {
        "id": "nv_O6cAPxPhp"
      }
    },
    {
      "cell_type": "code",
      "source": [
        "class SimpleExample:\n",
        "     def _init_(self, nama):\n",
        "      \"\"\"\n",
        "      Konstruktor: Dipangil saat objek dibuat.\n",
        "      \"\"\"\n",
        "      self.name = name\n",
        "      print(f\"Konstruktor: Objek '{self.name}' telah dibuat.\")\n",
        "\n",
        "     def _del_(self):\n",
        "      \"\"\"\n",
        "      Destruktor: Dipanggil saat objek dihapus.\n",
        "      Mencetak pesan bahwa objek sedang dihapus.\n",
        "      \"\"\"\n",
        "      print(f\"Destruktor: Objek '{self.name}'sedang dihapus.\")\n",
        "\n",
        "def main():\n",
        "    print(\"Program dimulai.\\n\")\n",
        "\n",
        "    # Membuat objek SimpleExample\n",
        "    obj = SimpleExample(\"Demo\")\n",
        "    print(\"Program sedang berjalan...\\n\")\n",
        "\n",
        "    # Menghapus objek secara eksplisit\n",
        "    del obj\n",
        "    print(f\"objek telah dihapus secara eksplisit.\\n\")\n",
        "\n",
        "    print(\"program selesai.\")\n",
        "\n",
        "if __name__ == \"_main_\":\n",
        "    main()"
      ],
      "metadata": {
        "id": "DEiHgCmFxwjp"
      },
      "execution_count": 47,
      "outputs": []
    },
    {
      "cell_type": "markdown",
      "source": [
        "# **Praktikum 04: Konstruktor dan Destruktor program FileLogger**"
      ],
      "metadata": {
        "id": "sQKBHEOm1S3H"
      }
    },
    {
      "cell_type": "code",
      "source": [
        "class FileLogger:\n",
        "   def _init_(self, filename):\n",
        "        \"\"\"\n",
        "        Konstruktor: Membuka file log untuk menulis pesan.\n",
        "        parameter:\n",
        "          - filename: Nama file tempat pesan log akan ditulis.\n",
        "        \"\"\"\n",
        "        self.filename = filename\n",
        "        try:\n",
        "             self.file = open(filename, \"a\") # Membuka file dalam mode append\n",
        "             print(f\"File '{filename}' berhasil dibuka untuk logging.\")\n",
        "        except Exception as e:\n",
        "             print(f\"Gagal membuka file '{filename}': {e}\")\n",
        "\n",
        "   def\twrite_log(self, message):\n",
        "        \"\"\"\n",
        "        Menulis pesan log kedalam file.\n",
        "        Parmeter:\n",
        "          - message : Pesan yang akan ditulis ke file.\n",
        "        \"\"\"\n",
        "        self.file.write(message + \"\\n\")\n",
        "        self.file.flush()  # Memastikan pesan langsung ditulis ke disk\n",
        "        print(f\"Pesan log: '{message}' telah ditulis.\")\n",
        "\n",
        "    def _del__(self)\n",
        "        \"\"\"\n",
        "        Destruktor: Menutup file log ketika objek dihapus.\n",
        "        \"\"\"\n",
        "        if hasattr(self, \"file\") and not self.file.closed:\n",
        "            self.file.close()\n",
        "            print(f\"File '{self.filename}'telah ditutup\".)\n",
        "\n",
        "# Contoh penggunaan dalam skenario nyata aplikasi\n",
        "if __name__ == \"_main_\":\n",
        "      # Membuat objek logger untuk file \"application.log\"\n",
        "      logger = FileLogger(\"application.log\")\n",
        "\n",
        "      # Menulis beberapa pesan log selama operasi aplikasi\n",
        "      logger.write_log(\"Aplikasi dimulai.\")\n",
        "      logger.write_log(\"Melakukan operasi A...\")\n",
        "      logger.write_log(\"Operasi A selesai.\")\n",
        "      logger.write_log(\"Aplikasi akan segera selesai.\")\n",
        "\n",
        "      # Menghapus objek logger secara eksplisit\n",
        "      del logger\n",
        "\n",
        "      # Jika objek tidak dihapus secara eksplisit, destruktor akan dipanggil\n",
        "      # Ketika program berakhir dan garbage collection membersihkan objek tersebut."
      ],
      "metadata": {
        "id": "Q5PsDJ991mSy",
        "outputId": "61885f1e-f5e0-40cc-aaab-dcd09286f62e",
        "colab": {
          "base_uri": "https://localhost:8080/",
          "height": 106
        }
      },
      "execution_count": 98,
      "outputs": [
        {
          "output_type": "error",
          "ename": "IndentationError",
          "evalue": "unindent does not match any outer indentation level (<tokenize>, line 25)",
          "traceback": [
            "\u001b[0;36m  File \u001b[0;32m\"<tokenize>\"\u001b[0;36m, line \u001b[0;32m25\u001b[0m\n\u001b[0;31m    def _del__(self)\u001b[0m\n\u001b[0m    ^\u001b[0m\n\u001b[0;31mIndentationError\u001b[0m\u001b[0;31m:\u001b[0m unindent does not match any outer indentation level\n"
          ]
        }
      ]
    },
    {
      "cell_type": "markdown",
      "source": [
        "# **Praktikum 05: Properti \"self\" pada kelas**"
      ],
      "metadata": {
        "id": "zSff8IMQ9lOT"
      }
    },
    {
      "cell_type": "code",
      "source": [
        "class Calculator:\n",
        "    def _init_(self, initial_value=0):\n",
        "        \"\"\"\n",
        "        Konstruktor kelas Calculator.\n",
        "        - self: Mengacu pada instance yang dibuat.\n",
        "        - initial_value: Nilai awal dari kalkulator.\n",
        "        \"\"\"\n",
        "        self.value = initial_value\n",
        "        print(f\"kalkulator diinisialisasidengan nilai: {self.value}\")\n",
        "\n",
        "    def add(self, number):\n",
        "        \"\"\"\n",
        "        Menambahkan 'number' ke nilai yang tersimpan di objek.\n",
        "        - self.value: menunjukkan nilai saat ini yang disimpan di objek tersebut.\n",
        "        - number: Nilai yang akan ditambahkan.\n",
        "        \"\"\"\n",
        "        self.value += number\n",
        "        print(f\"Setelah penambahan {number}, nilai sekarang adalah; {self.value}\")\n",
        "\n",
        "    def subtract(self,number):\n",
        "        \"\"\"\n",
        "        Mengurangi 'number'dari nilai yang tersimpan.\n",
        "        - self.value: Nilai saat ini dalam objek.\n",
        "        - number: Nilai yang akan dikurangkan.\n",
        "        \"\"\"\n",
        "        self.value -= number\n",
        "        print(f\"Setelah pengurangan {number}, nilai sekarang adalah: {self.value}\")\n",
        "\n",
        "    def reset(self):\n",
        "        \"\"\"\n",
        "        Mengatur ulang nilai kalkulator ke 0.\n",
        "        \"\"\"\n",
        "        self.value = 0\n",
        "        print(f\"Nilai telah direset ke 0.\")\n",
        "\n",
        "    def show_value(self):\n",
        "        \"\"\"\n",
        "        Menampilkan nilai saat ini di kalkulator.\n",
        "        \"\"\"\n",
        "        print(f\"Nilai saat ini adalah: {self.value}\")\n",
        "\n",
        "# Contoh penggunaan untuk memahami peran 'self'\n",
        "def main():\n",
        "    # Membuat objek Calculator dengan nilai awal 10\n",
        "    calc1 = Calculator(Initial_value=10)\n",
        "\n",
        "    # Menggunakan metode dari objek calc1\n",
        "    calc1.add(5)         # Menambah 5 ke nilai calc1\n",
        "    calc1.subtract(3)    # Mengurangi 3 dari nilai calc1\n",
        "    calc1.show_value()   # Menampilkan nilai calc1\n",
        "\n",
        "    # Membuat objek calculator lainnya dengan nilai awal default (0)\n",
        "    calc2 = Calculator()\n",
        "    calc2.add(20)        # Menambah 20 ke nilai calc2\n",
        "    calc2.show_value()   # Menampilkan nilai calc2\n",
        "\n",
        "    # Penjelasan peran self:\n",
        "    # 'self' memungkinkan setiap instane (calc1, calc2) memiliki atribut 'value' masing-masing.\n",
        "    # Perubahan yang dilakukan pada calc1 tidak akan mempengaruhi calc2, karena masing-masing\n",
        "    # Mengavu pada self yang berbeda (instance yang berbeda).\n",
        "\n",
        "if __name__ == \"_main_\":\n",
        "    main()"
      ],
      "metadata": {
        "id": "s92az9Zz9p43"
      },
      "execution_count": 94,
      "outputs": []
    },
    {
      "cell_type": "markdown",
      "source": [
        "# **Praktikum 06: Menggunakan getter, setter, dan dekorator @property untuk mengelola akses atribut**"
      ],
      "metadata": {
        "id": "52tnTgR5FFm2"
      }
    },
    {
      "cell_type": "code",
      "source": [
        "class Person:\n",
        "    def _init_(self, name, age):\n",
        "        \"\"\"\n",
        "        Konstruktor untuk menginisialisasi objek person dengan nama dan umur.\n",
        "        Atribut privat (dengan double underscore) menyimpan data internal.\n",
        "        \"\"\"\n",
        "        self._name = name\n",
        "        self._age = age\n",
        "\n",
        "    @property\n",
        "    def name(self):\n",
        "        \"\"\"\n",
        "        Getter untuk atribut name.\n",
        "        Mengembalikan nilai dari _name.\n",
        "        \"\"\"\n",
        "        return self._name\n",
        "\n",
        "    @name.setter\n",
        "    def name(self):\n",
        "        \"\"\"\n",
        "        Setter untuk atribut name.\n",
        "        Memeriksa apakah nilai tidak kosong sebelum mengubah nilai _name.\n",
        "        \"\"\"\n",
        "        if not value:\n",
        "            print(\"nama tidak boleh kosong.\")\n",
        "        else:\n",
        "            self._name = value\n",
        "\n",
        "    @property\n",
        "    def age(self):\n",
        "        \"\"\"\n",
        "        Getter untuk atribut age.\n",
        "        Mengembalikan nilai dari _age.\n",
        "        \"\"\"\n",
        "        return self._age\n",
        "\n",
        "    @age.setter\n",
        "    def age(self,value):\n",
        "        \"\"\"\n",
        "        Setter untuk atribut age.\n",
        "        Memeriksa apakah nilai umur tidak negatif sebelum mengubah nilai _age.\n",
        "        \"\"\"\n",
        "        if value < 0:\n",
        "            print(\"umur tidak boleh ngeatif!\")\n",
        "        else:\n",
        "            self._age = value\n",
        "\n",
        "# Contoh penggunaan\n",
        "def main():\n",
        "    # Membuat objek person dengan nama \"Alice\" dan umur 30\n",
        "    person = person(\"Alice\", 30)\n",
        "    print(f\"Nama: {person.name}, Umur: {person.age}\")\n",
        "\n",
        "    # Mengubah nama dan umur melalui setter\n",
        "    person.name = \"Bob\"\n",
        "    person.age = 35\n",
        "    print(f\"Nama baru: {person.name}, Umur baru: {person.age}\")\n",
        "\n",
        "    # Mencoba menetapkan nilai yang tidak valid untuk ummur\n",
        "    person.age = -5  # Akan memunculkan pesan error karena validasi umur negatif\n",
        "\n",
        "if __name__ == \"_main_\":\n",
        "    main()"
      ],
      "metadata": {
        "id": "xnG7oTe3FTeV"
      },
      "execution_count": 107,
      "outputs": []
    },
    {
      "cell_type": "markdown",
      "source": [
        "# **PENUGASAN**"
      ],
      "metadata": {
        "id": "MiSxRgcnKI18"
      }
    },
    {
      "cell_type": "code",
      "source": [
        "class Student:\n",
        "  def __init__(self,name,score):\n",
        "    self.__name = name\n",
        "    self.__score = 0\n",
        "    self.__grade = \"\"\n",
        "    self.score = score\n",
        "\n",
        "  @property\n",
        "  def name(self):\n",
        "    return self.__name\n",
        "\n",
        "  @name.setter\n",
        "  def name(self,value):\n",
        "    if value.strip() == \"\":\n",
        "      print(\"Nama tidak boleh kosong.\")\n",
        "    else:\n",
        "      self.__name = value\n",
        "\n",
        "  @property\n",
        "  def score(self):\n",
        "    return self.__score\n",
        "\n",
        "  @score.setter\n",
        "  def score(self,value):\n",
        "    if 0 <= value <= 100:\n",
        "      self.__score = value\n",
        "      self.__update.grade()\n",
        "    else:\n",
        "      print(\"Nilai harus antara 0 dan 100.\")\n",
        "\n",
        "  def __update_grade(self):\n",
        "    if self.__score >= 90:\n",
        "      self.__grade = \"A\"\n",
        "    elif self.__score >= 80:\n",
        "      self.__grade = \"B\"\n",
        "    elif self.__score >=70:\n",
        "      self.__grade = \"C\"\n",
        "    elif self.__score >= 60:\n",
        "      self.__grade = \"D\"\n",
        "    else:\n",
        "      self.__grade = \"E\"\n",
        "  def show_info(self):\n",
        "    print(f\"Nama Mahasiswa: {self.__name}\")\n",
        "    print(f\"Nilai: {self.__score}\")\n",
        "    print(f\"Grade: {self.__grade}\")\n",
        "\n",
        "  def __del__(self):\n",
        "    print(f\"\\nData mahasiswa {self.__name} telah dihapus dari sistem.\")\n",
        "\n",
        "if __name__ == \"_main_\":\n",
        "  student = Student(\"Reza\",87)\n",
        "  student.show_info()\n",
        "\n",
        "  print(\"\\nNilai diubah...\")\n",
        "  student.score = 93\n",
        "  student.show_info()\n",
        "\n",
        "  del student"
      ],
      "metadata": {
        "id": "OZZSaBsLKP8t"
      },
      "execution_count": 110,
      "outputs": []
    }
  ]
}