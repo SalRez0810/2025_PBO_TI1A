{
  "nbformat": 4,
  "nbformat_minor": 0,
  "metadata": {
    "colab": {
      "provenance": [],
      "authorship_tag": "ABX9TyPqM/MD8Slvw25KXdhTZb+J",
      "include_colab_link": true
    },
    "kernelspec": {
      "name": "python3",
      "display_name": "Python 3"
    },
    "language_info": {
      "name": "python"
    }
  },
  "cells": [
    {
      "cell_type": "markdown",
      "metadata": {
        "id": "view-in-github",
        "colab_type": "text"
      },
      "source": [
        "<a href=\"https://colab.research.google.com/github/SalRez0810/2025_PBO_TI1A/blob/main/Jobsheet04_PBO.ipynb\" target=\"_parent\"><img src=\"https://colab.research.google.com/assets/colab-badge.svg\" alt=\"Open In Colab\"/></a>"
      ]
    },
    {
      "cell_type": "markdown",
      "source": [
        "# **Praktikum 01: Inheritance Dasar**"
      ],
      "metadata": {
        "id": "_-r_2XzuZgA8"
      }
    },
    {
      "cell_type": "code",
      "execution_count": 2,
      "metadata": {
        "id": "TTCRS0srZOo5",
        "outputId": "28992238-82a2-454c-aaec-2dbaf909c3d5",
        "colab": {
          "base_uri": "https://localhost:8080/"
        }
      },
      "outputs": [
        {
          "output_type": "stream",
          "name": "stdout",
          "text": [
            "Ini adalah mobil Tesla Model S berwarna Merah.\n",
            "Mesin kendaraan Tesla Model S dinyalakan.\n",
            "Merk mobil: Tesla Model S\n"
          ]
        }
      ],
      "source": [
        "class Kendaraan:\n",
        "    def __init__(self, merk):\n",
        "        self.merk = merk\n",
        "\n",
        "    def mulai_mesin(self):\n",
        "        print(f\"Mesin kendaraan {self.merk} dinyalakan.\")\n",
        "\n",
        "class Mobil(Kendaraan):\n",
        "    def __init__(self, merk, warna):\n",
        "        self.merk = merk\n",
        "        self.warna = warna\n",
        "\n",
        "    def info_mobil(self):\n",
        "        print(f\"Ini adalah mobil {self.merk} berwarna {self.warna}.\")\n",
        "\n",
        "if __name__ == \"__main__\":\n",
        "    mobil_tesla = Mobil(\"Tesla Model S\", \"Merah\")\n",
        "\n",
        "    mobil_tesla.info_mobil()\n",
        "\n",
        "    mobil_tesla.mulai_mesin()\n",
        "\n",
        "    print(f\"Merk mobil: {mobil_tesla.merk}\")"
      ]
    },
    {
      "cell_type": "markdown",
      "source": [
        "# **Praktikum 02: Menggunakan super() dalam konstruktor**"
      ],
      "metadata": {
        "id": "-56W16GzdtSS"
      }
    },
    {
      "cell_type": "code",
      "source": [
        "class Person:\n",
        "    def __init__(self, nama, usia):\n",
        "        print(f\"(Memanggil __init__ Person untuk '{nama}')\")\n",
        "        self.nama = nama\n",
        "        self.usia = usia\n",
        "\n",
        "    def perkenalkan_diri(self):\n",
        "        print(f\"Halo, nama saya {self.nama}, usia saya {self.usia} tahun.\")\n",
        "\n",
        "class Student(Person):\n",
        "    def __init__(self, nama, usia, student_id, jurusan):\n",
        "        print(f\"(Memanggil __init__ Student untuk '{nama}')\")\n",
        "        super() .__init__(nama, usia)\n",
        "        self.student_id = student_id\n",
        "        self.jurusan = jurusan\n",
        "        print(f\"(Inisialisasi atribut Student selesai untuk '{nama}')\")\n",
        "\n",
        "    def info_akademik(self):\n",
        "        print(f\"ID Mahasiswa: (self.student_id)\")\n",
        "        print(f\"Jurusan: (self.jurusan)\")\n",
        "\n",
        "    def perkenalkan_diri(self):\n",
        "        super() .perkenalkan_diri()\n",
        "        print(f\"Saya adalah mahasiswa dengan ID {self.student_id}, jurusan {self.jurusan}.\")\n",
        "\n",
        "if __name__ == \"__main__\":\n",
        "    dosen = Person(\"Pak Anton\", 45)\n",
        "    print(\"-\" * 20)\n",
        "    dosen.perkenalkan_diri()\n",
        "    print(\"\\n\" + \"=\" * 30 + \"\\n\")\n",
        "\n",
        "    mahasiswa = Student(\"Dewi\", 20, \"MHS001\", \"Tenkik Komputer\")\n",
        "    print(\"_\" * 20)\n",
        "    mahasiswa.perkenalkan_diri()\n",
        "    print(\"_\" * 20)\n",
        "    mahasiswa.info_akademik()\n",
        "\n",
        "    print(f\"\\nUsia mahasiswa {mahasiswa.nama}: {mahasiswa.usia}\")"
      ],
      "metadata": {
        "id": "UkhNOynMd5XN",
        "outputId": "16c1a73a-04f6-48fa-9786-179b4444aadb",
        "colab": {
          "base_uri": "https://localhost:8080/"
        }
      },
      "execution_count": 20,
      "outputs": [
        {
          "output_type": "stream",
          "name": "stdout",
          "text": [
            "(Memanggil __init__ Person untuk 'Pak Anton')\n",
            "--------------------\n",
            "Halo, nama saya Pak Anton, usia saya 45 tahun.\n",
            "\n",
            "==============================\n",
            "\n",
            "(Memanggil __init__ Student untuk 'Dewi')\n",
            "(Memanggil __init__ Person untuk 'Dewi')\n",
            "(Inisialisasi atribut Student selesai untuk 'Dewi')\n",
            "____________________\n",
            "Halo, nama saya Dewi, usia saya 20 tahun.\n",
            "Saya adalah mahasiswa dengan ID MHS001, jurusan Tenkik Komputer.\n",
            "____________________\n",
            "ID Mahasiswa: (self.student_id)\n",
            "Jurusan: (self.jurusan)\n",
            "\n",
            "Usia mahasiswa Dewi: 20\n"
          ]
        }
      ]
    },
    {
      "cell_type": "markdown",
      "source": [
        "# **Praktikum 03: Method Overridding dan super()**"
      ],
      "metadata": {
        "id": "9L7uLzkFm61z"
      }
    },
    {
      "cell_type": "code",
      "source": [
        "class Hewan:\n",
        "    def __init__(self, nama):\n",
        "        self.nama = nama\n",
        "\n",
        "    def bersuara(self):\n",
        "        print(f\"{self.nama} mengeluarkan suara generik.\")\n",
        "\n",
        "    def tampilkan_info(self):\n",
        "        print(f\"Ini adalah hewan bernama {self.nama}.\")\n",
        "\n",
        "class Kucing(Hewan):\n",
        "    def __init__(self, nama, ras):\n",
        "        super().__init__(nama)\n",
        "        self.ras = ras\n",
        "\n",
        "    def bersuara(self):\n",
        "        print(f\"{self.nama} {Kucing} mengeong: Meow!\")\n",
        "\n",
        "    def tampilkan_info(self):\n",
        "        super().tampilkan_info()\n",
        "        print(f\"Ini adalah kucing ras {self.ras}.\")\n",
        "\n",
        "if __name__ == \"__main__\":\n",
        "    hewan_umum = Hewan(\"Makhluk\")\n",
        "    kucing_persia = Kucing(\"Puspus\", \"Persia\")\n",
        "\n",
        "    print(\"Info Hewan Umum:\")\n",
        "    hewan_umum.tampilkan_info()\n",
        "    hewan_umum.bersuara()\n",
        "    print(\"-\" * 20)\n",
        "\n",
        "    print(\"Info Kucing Persia:\")\n",
        "    kucing_persia.tampilkan_info()\n",
        "    kucing_persia.bersuara()"
      ],
      "metadata": {
        "id": "2KQRAgk2m50s",
        "outputId": "a868e568-af3e-4f3b-eb78-433a964bfdb5",
        "colab": {
          "base_uri": "https://localhost:8080/"
        }
      },
      "execution_count": 22,
      "outputs": [
        {
          "output_type": "stream",
          "name": "stdout",
          "text": [
            "Info Hewan Umum:\n",
            "Ini adalah hewan bernama Makhluk.\n",
            "Makhluk mengeluarkan suara generik.\n",
            "--------------------\n",
            "Info Kucing Persia:\n",
            "Ini adalah hewan bernama Puspus.\n",
            "Ini adalah kucing ras Persia.\n",
            "Puspus <class '__main__.Kucing'> mengeong: Meow!\n"
          ]
        }
      ]
    },
    {
      "cell_type": "markdown",
      "source": [
        "# **Praktikum 04: Multi-level Inheritance (Pewarisan Bertingkat)**"
      ],
      "metadata": {
        "id": "hLamG-nDqZHB"
      }
    },
    {
      "cell_type": "code",
      "source": [
        "class Organisme:\n",
        "    def __init__(self, nama):\n",
        "        self.nama = nama\n",
        "        print(f\"Organisme '{self.nama}' diciptakan.\")\n",
        "\n",
        "    def bernapas(self):\n",
        "        print(f\"{self.nama} sedang bernapas.\")\n",
        "\n",
        "class Hewan(Organisme):\n",
        "    def __init__(self, nama, jenis_makanan):\n",
        "        super().__init__(nama)\n",
        "        self.jenis_makanan = jenis_makanan\n",
        "        print(f\"Hewan '{self.nama}' adalah {self.jenis_makanan}.\")\n",
        "\n",
        "    def bergerak(self):\n",
        "        print(f\"{self.nama} sedang bergerak.\")\n",
        "\n",
        "class Mamalia(Hewan):\n",
        "    def __init__(self, nama, jenis_makanan, jumlah_kaki):\n",
        "        super().__init__(nama, jenis_makanan)\n",
        "        self.jumlah_kaki = jumlah_kaki\n",
        "        print(f\"Mamalia '{self.nama}' memiliki {self.jumlah_kaki} kaki.\")\n",
        "\n",
        "    def menyusui(self):\n",
        "        print(f\"{self.nama} sedang menyusui.\")\n",
        "\n",
        "if __name__ == \"__main__\":\n",
        "    kucing = Mamalia(\"Kucing Persia\", \"Karnivora\", 4)\n",
        "    print(\"-\" * 20)\n",
        "\n",
        "    kucing.menyusui()\n",
        "\n",
        "    kucing.bergerak()\n",
        "    print(f\"Jenis makanan: {kucing.jenis_makanan}\")\n",
        "\n",
        "    kucing.bernapas()\n",
        "    print(f\"Nama organisasi: {kucing.nama}\")"
      ],
      "metadata": {
        "id": "ZSlHb3FRrYGL",
        "outputId": "d65c3ebe-9d72-4d30-b82e-bbc1d1266a92",
        "colab": {
          "base_uri": "https://localhost:8080/"
        }
      },
      "execution_count": 36,
      "outputs": [
        {
          "output_type": "stream",
          "name": "stdout",
          "text": [
            "Organisme 'Kucing Persia' diciptakan.\n",
            "Hewan 'Kucing Persia' adalah Karnivora.\n",
            "Mamalia 'Kucing Persia' memiliki 4 kaki.\n",
            "--------------------\n",
            "Kucing Persia sedang menyusui.\n",
            "Kucing Persia sedang bergerak.\n",
            "Jenis makanan: Karnivora\n",
            "Kucing Persia sedang bernapas.\n",
            "Nama organisasi: Kucing Persia\n"
          ]
        }
      ]
    },
    {
      "cell_type": "markdown",
      "source": [
        "# **Praktikum 05: Hierarchical Inheritance**"
      ],
      "metadata": {
        "id": "n69IlivA5qJo"
      }
    },
    {
      "cell_type": "code",
      "source": [
        "import locale\n",
        "\n",
        "try:\n",
        "   locale.setlocale(locale.LC_ALL, 'id_ID.UTF-8')\n",
        "except locale.Error:\n",
        "      print(\"Locale id_ID.UTF-8 tidak tersedia, menggunakan locale default.\")\n",
        "\n",
        "      def format_rupiah(angka):\n",
        "         return locale.currency(angka, grouping=True, symbol='Rp ')\n",
        "\n",
        "class pegawai:\n",
        "      def __init__(self, nama, id_pegawai, gaji_pokok):\n",
        "         self.nama = nama\n",
        "         self.id_pegawai = id_pegawai\n",
        "         self.gaji_pokok = gaji_pokok\n",
        "\n",
        "      def hitung_gaji(self):\n",
        "         return self.gaji_pokok\n",
        "\n",
        "      def tampilkan_info(self):\n",
        "         print(f\"ID: {self,id_pegawai}, Nama:{self.nama}\")\n",
        "         print(f\"Gaji pokok: {format_rupiah(self.gaji_pokok)}\")\n",
        "\n",
        "\n"
      ],
      "metadata": {
        "id": "W-KFUQR56CPi"
      },
      "execution_count": null,
      "outputs": []
    }
  ]
}