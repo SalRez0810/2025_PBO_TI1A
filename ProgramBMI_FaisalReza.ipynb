{
  "nbformat": 4,
  "nbformat_minor": 0,
  "metadata": {
    "colab": {
      "provenance": [],
      "authorship_tag": "ABX9TyMbMokysNTslFMKEkFuh2d0",
      "include_colab_link": true
    },
    "kernelspec": {
      "name": "python3",
      "display_name": "Python 3"
    },
    "language_info": {
      "name": "python"
    }
  },
  "cells": [
    {
      "cell_type": "markdown",
      "metadata": {
        "id": "view-in-github",
        "colab_type": "text"
      },
      "source": [
        "<a href=\"https://colab.research.google.com/github/SalRez0810/2025_PBO_TI1A/blob/main/ProgramBMI_FaisalReza.ipynb\" target=\"_parent\"><img src=\"https://colab.research.google.com/assets/colab-badge.svg\" alt=\"Open In Colab\"/></a>"
      ]
    },
    {
      "cell_type": "code",
      "execution_count": 1,
      "metadata": {
        "colab": {
          "base_uri": "https://localhost:8080/"
        },
        "id": "2ld2jjpdo32B",
        "outputId": "bb80a8d5-0955-4cb9-b240-784552e4d976"
      },
      "outputs": [
        {
          "output_type": "stream",
          "name": "stdout",
          "text": [
            "Masukkan berat badan (kg): 50\n",
            "Masukkan tinggi badan (cm): 150\n",
            "BMI Anda: 22.22\n",
            "Kategori: Normal\n",
            "Ingin menghitung lagi? (ya/tidak): tidak\n",
            "Terima kasih telah menggunakan kalkulator BMI!\n"
          ]
        }
      ],
      "source": [
        "def hitung_bmi(berat, tinggi_cm):\n",
        "    tinggi_m = tinggi_cm / 100\n",
        "    bmi = berat / (tinggi_m ** 2)\n",
        "\n",
        "    if bmi < 18.5:\n",
        "        kategori = \"Underweight\"\n",
        "    elif 18.5 <= bmi < 24.9:\n",
        "        kategori = \"Normal\"\n",
        "    else:\n",
        "        kategori = \"Overweight\"\n",
        "\n",
        "    return bmi, kategori\n",
        "\n",
        "while True:\n",
        "    berat = float(input(\"Masukkan berat badan (kg): \"))\n",
        "    tinggi = float(input(\"Masukkan tinggi badan (cm): \"))\n",
        "\n",
        "    bmi, kategori = hitung_bmi(berat, tinggi)\n",
        "\n",
        "    print(f\"BMI Anda: {bmi:.2f}\")\n",
        "    print(f\"Kategori: {kategori}\")\n",
        "\n",
        "    lanjut = input(\"Ingin menghitung lagi? (ya/tidak): \").strip().lower()\n",
        "    if lanjut != \"ya\":\n",
        "        print(\"Terima kasih telah menggunakan kalkulator BMI!\")\n",
        "        break"
      ]
    }
  ]
}