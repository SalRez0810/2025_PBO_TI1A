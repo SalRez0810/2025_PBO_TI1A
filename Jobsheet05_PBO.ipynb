{
  "nbformat": 4,
  "nbformat_minor": 0,
  "metadata": {
    "colab": {
      "provenance": [],
      "authorship_tag": "ABX9TyNvUpG48lr8rI271wqz8HLC",
      "include_colab_link": true
    },
    "kernelspec": {
      "name": "python3",
      "display_name": "Python 3"
    },
    "language_info": {
      "name": "python"
    }
  },
  "cells": [
    {
      "cell_type": "markdown",
      "metadata": {
        "id": "view-in-github",
        "colab_type": "text"
      },
      "source": [
        "<a href=\"https://colab.research.google.com/github/SalRez0810/2025_PBO_TI1A/blob/main/Jobsheet05_PBO.ipynb\" target=\"_parent\"><img src=\"https://colab.research.google.com/assets/colab-badge.svg\" alt=\"Open In Colab\"/></a>"
      ]
    },
    {
      "cell_type": "markdown",
      "source": [
        "# Praktikum 01: Polimorfisme dengan Inheritance dan Overriding"
      ],
      "metadata": {
        "id": "7hBm7mKua12b"
      }
    },
    {
      "cell_type": "code",
      "execution_count": 5,
      "metadata": {
        "id": "jdtnwU5FZnDL",
        "outputId": "08c62bc3-6735-435a-cb77-e37c4c422974",
        "colab": {
          "base_uri": "https://localhost:8080/"
        }
      },
      "outputs": [
        {
          "output_type": "stream",
          "name": "stdout",
          "text": [
            "\n",
            "Aksi Burung:\n",
            "-- Aksi untuk Elang Jawa --\n",
            "Elang Jawa terbang tinggi melayang di angkasa.\n",
            "Elang Jawa berteriak nyaring!\n",
            "---------------\n",
            "-- Aksi untuk Pipit Gereja --\n",
            "Pipit Gereja terbang cepat diantara pepohonan.\n",
            "Pipit Gereja berkicau merdu: Cit cit!\n",
            "---------------\n",
            "-- Aksi untuk Burung Misterius --\n",
            "Burung Misterius terbang dengan cara umum.\n",
            "Burung Misterius mengeluarkan suara burung.\n",
            "---------------\n"
          ]
        }
      ],
      "source": [
        "class Burung:\n",
        "    def __init__(self, nama):\n",
        "        self.nama = nama\n",
        "\n",
        "    def terbang(self):\n",
        "        print(f\"{self.nama} terbang dengan cara umum.\")\n",
        "\n",
        "    def bersuara(self):\n",
        "        print(f\"{self.nama} mengeluarkan suara burung.\")\n",
        "\n",
        "class Elang(Burung):\n",
        "    def __init__(self, nama, rentang_sayap):\n",
        "        super().__init__(nama)\n",
        "        self.rentang_sayap = rentang_sayap\n",
        "\n",
        "    def terbang(self):\n",
        "        print(f\"{self.nama} terbang tinggi melayang di angkasa.\")\n",
        "\n",
        "    def bersuara(self):\n",
        "        print(f\"{self.nama} berteriak nyaring!\")\n",
        "\n",
        "class Pipit(Burung):\n",
        "    def __init__(self, nama, warna_bulu):\n",
        "        super().__init__(nama)\n",
        "        self.warna_bulu = warna_bulu\n",
        "\n",
        "    def terbang(self):\n",
        "        print(f\"{self.nama} terbang cepat diantara pepohonan.\")\n",
        "\n",
        "    def bersuara(self):\n",
        "        print(f\"{self.nama} berkicau merdu: Cit cit!\")\n",
        "\n",
        "def demonstrasi_aksi_burung(daftar_burung):\n",
        "    print(\"\\nAksi Burung:\")\n",
        "    for burung in daftar_burung:\n",
        "        print(f\"-- Aksi untuk {burung.nama} --\")\n",
        "        burung.terbang()\n",
        "        burung.bersuara()\n",
        "        print(\"-\" * 15)\n",
        "\n",
        "if __name__ == \"__main__\":\n",
        "    elang_jawa = Elang(\"Elang Jawa\", 1.5)\n",
        "    pipit_gereja = Pipit(\"Pipit Gereja\", \"Coklat\")\n",
        "    burung_aneh = Burung(\"Burung Misterius\")\n",
        "\n",
        "    koleksi_burung = [elang_jawa, pipit_gereja, burung_aneh]\n",
        "\n",
        "    demonstrasi_aksi_burung(koleksi_burung)"
      ]
    },
    {
      "cell_type": "markdown",
      "source": [
        "# Praktikum 02: Polimorfisme dengan Duck Typing"
      ],
      "metadata": {
        "id": "eeyCSKD8gwAE"
      }
    },
    {
      "cell_type": "code",
      "source": [
        "class Kucing:\n",
        "    def bersuara(self):\n",
        "        print(\"Kucing: Meow!\")\n",
        "\n",
        "class Anjing:\n",
        "    def bersuara(self):\n",
        "        print(\"Anjing: Guk guk!\")\n",
        "\n",
        "class Bebek:\n",
        "    def bersuara(self):\n",
        "        print(\"Bebek: Kwek kwek!\")\n",
        "\n",
        "class Mobil:\n",
        "    def jalankan(self):\n",
        "        print(\"Mobil: Brummm!\")\n",
        "\n",
        "def buat_suara(objek_yang_bisa_bersuara):\n",
        "    try:\n",
        "        objek_yang_bisa_bersuara.bersuara()\n",
        "    except AttributeError:\n",
        "          print(f\"Objek {type(objek_yang_bisa_bersuara).__name__} tidak bisa bersuara.\")\n",
        "\n",
        "if __name__ == \"__main__\":\n",
        "    kucing1 = Kucing()\n",
        "    anjing1 = Anjing()\n",
        "    bebek1 = Bebek()\n",
        "    mobil1 = Mobil()\n",
        "\n",
        "    daftar_objek = [kucing1, anjing1, bebek1, mobil1]\n",
        "\n",
        "    print(\"Demonstrasi Duck Typing:\")\n",
        "    for item in daftar_objek:\n",
        "        buat_suara(item)"
      ],
      "metadata": {
        "id": "8-NRQGmDgwcM",
        "outputId": "8c98ae0e-33f3-43e1-eea1-e4817bf1641b",
        "colab": {
          "base_uri": "https://localhost:8080/"
        }
      },
      "execution_count": 9,
      "outputs": [
        {
          "output_type": "stream",
          "name": "stdout",
          "text": [
            "Demonstrasi Duck Typing:\n",
            "Kucing: Meow!\n",
            "Anjing: Guk guk!\n",
            "Bebek: Kwek kwek!\n",
            "Objek Mobil tidak bisa bersuara.\n"
          ]
        }
      ]
    },
    {
      "cell_type": "markdown",
      "source": [
        "# Praktikum 03: Simulasi Overloading dalam Metode Kelas dengan *args"
      ],
      "metadata": {
        "id": "OMOIQaIukkrp"
      }
    },
    {
      "cell_type": "code",
      "source": [
        "class KalkulatorSederhana:\n",
        "    def __init__(self, nama=\"Kalkulator\"):\n",
        "        self.nama = nama\n",
        "        print(f\"{self.nama} siap digunakan.\")\n",
        "\n",
        "    def tambah(self, *args):\n",
        "        \"\"\"\n",
        "        Metode ini menjumlahkan semua argumen angka yang diberikan.\n",
        "        Menerima sejumlah argumen posisi menggunakan *args.\n",
        "        \"\"\"\n",
        "        print(f\"\\nMemanggil metode tambah dengan argumen: {args}\")\n",
        "        if not args:\n",
        "            print(\"Tidak ada angka untuk dijumlahkan.\")\n",
        "            return 0\n",
        "\n",
        "        total = 0\n",
        "        valid_input = True\n",
        "        for angka in args:\n",
        "            if isinstance(angka, (int, float)):\n",
        "                total += angka\n",
        "            else:\n",
        "                print(f\"Peringatan: Argumen '{angka}' bukan angka dan akan diabaikan.\")\n",
        "                valid_input = False\n",
        "\n",
        "        if valid_input:\n",
        "            print(f\"Hasil penjumlahan: {total}\")\n",
        "        else:\n",
        "            print(f\"Hasil penjumlahan (dengan beberapa input diabaikan): {total}\")\n",
        "        return total\n",
        "\n",
        "if __name__ == \"__main__\":\n",
        "    calc = KalkulatorSederhana(\"Calc-01\")\n",
        "\n",
        "    print(\"\\n--- Percobaan Penjumlahan ---\")\n",
        "    calc.tambah(5, 10)\n",
        "    calc.tambah(2, 3, 5, 10)\n",
        "    calc.tambah(100)\n",
        "    calc.tambah()\n",
        "    calc.tambah(1, 2, \"tiga\", 4, 5.5)\n",
        "\n"
      ],
      "metadata": {
        "id": "V4xznGQEklFs",
        "outputId": "19792568-90af-44b8-9d13-6bf7121db2d3",
        "colab": {
          "base_uri": "https://localhost:8080/"
        }
      },
      "execution_count": 10,
      "outputs": [
        {
          "output_type": "stream",
          "name": "stdout",
          "text": [
            "Calc-01 siap digunakan.\n",
            "\n",
            "--- Percobaan Penjumlahan ---\n",
            "\n",
            "Memanggil metode tambah dengan argumen: (5, 10)\n",
            "Hasil penjumlahan: 15\n",
            "\n",
            "Memanggil metode tambah dengan argumen: (2, 3, 5, 10)\n",
            "Hasil penjumlahan: 20\n",
            "\n",
            "Memanggil metode tambah dengan argumen: (100,)\n",
            "Hasil penjumlahan: 100\n",
            "\n",
            "Memanggil metode tambah dengan argumen: ()\n",
            "Tidak ada angka untuk dijumlahkan.\n",
            "\n",
            "Memanggil metode tambah dengan argumen: (1, 2, 'tiga', 4, 5.5)\n",
            "Peringatan: Argumen 'tiga' bukan angka dan akan diabaikan.\n",
            "Hasil penjumlahan (dengan beberapa input diabaikan): 12.5\n"
          ]
        }
      ]
    },
    {
      "cell_type": "markdown",
      "source": [
        "# Praktikum 04: Simulasi Overloading dalam Metode Kelas dengan *args dan **kwargs"
      ],
      "metadata": {
        "id": "aN4CbtWeo_on"
      }
    },
    {
      "cell_type": "code",
      "source": [
        "class DataProcessor:\n",
        "    def __init__(self, processor_id):\n",
        "        self.processor_id = processor_id\n",
        "        print(f\"Data Processor {self.processor_id} siap.\")\n",
        "\n",
        "    def process(self, *args, **kwargs):\n",
        "        \"\"\"\n",
        "        Metode ini memproses data dengan argumen posisi (*args) dan kata kunci (**kwargs) yang jumlahnya variabel.\n",
        "        \"\"\"\n",
        "        print(f\"\\n--- {self.processor_id} Memproses Data ---\")\n",
        "\n",
        "        if args:\n",
        "            print(\"Argumen Posisi Diterima:\")\n",
        "            for i, arg in enumerate(args):\n",
        "              print(f\" args[{i}]: {arg} (tipe: {type(arg).__name__})\")\n",
        "        else:\n",
        "            print(\"Tidak ada argumen posisi.\")\n",
        "\n",
        "        if kwargs:\n",
        "            print(\"Argumen Kata Kunci Diterima:\")\n",
        "            for kunci, nilai in kwargs.items():\n",
        "             print(f\" {kunci}: {nilai} (tipe: {type(nilai).__name__})\")\n",
        "        else:\n",
        "            print(\"Tidak ada argumen kata kunci.\")\n",
        "        print(\"---------------------------------\")\n",
        "\n",
        "if __name__ == \"__main__\":\n",
        "    processor1 = DataProcessor(\"DP-001\")\n",
        "\n",
        "    print(\"\\nPanggilan 1: Tanpa argumen tambahan\")\n",
        "    processor1.process()\n",
        "\n",
        "    print(\"\\nPanggilan 2: Hanya argumen posisi\")\n",
        "    processor1.process(100, \"Status OK\", 99.9, False)\n",
        "\n",
        "    print(\"\\nPanggilan 3: Hanya argumen kata kunci\")\n",
        "    processor1.process(user=\"admin\", level=5, mode=\"verbose\")\n",
        "\n",
        "    print(\"\\nPanggilan 4: Kombinasi argumen posisi dan kata kunci\")\n",
        "    processor1.process(\"Task-A\", \"Task-B\", status=\"Running\", priority=\"High\", thread_id=54321)\n",
        "\n",
        "    print(\"\\nPanggilan 5: Argumen posisi kompleks\")\n",
        "    list_ids = [\"A1\", \"B2\", \"C3\"]\n",
        "    dict_params = {\"timeout\": 30, \"retry\": 3}\n",
        "    processor1.process(list_ids, dict_params, owner=\"system\", enabled=True)\n"
      ],
      "metadata": {
        "id": "9rckOP3spF9d",
        "outputId": "a19e2ccf-c682-4ac8-991e-f18024c616fa",
        "colab": {
          "base_uri": "https://localhost:8080/"
        }
      },
      "execution_count": 13,
      "outputs": [
        {
          "output_type": "stream",
          "name": "stdout",
          "text": [
            "Data Processor DP-001 siap.\n",
            "\n",
            "Panggilan 1: Tanpa argumen tambahan\n",
            "\n",
            "--- DP-001 Memproses Data ---\n",
            "Tidak ada argumen posisi.\n",
            "Tidak ada argumen kata kunci.\n",
            "---------------------------------\n",
            "\n",
            "Panggilan 2: Hanya argumen posisi\n",
            "\n",
            "--- DP-001 Memproses Data ---\n",
            "Argumen Posisi Diterima:\n",
            " args[0]: 100 (tipe: int)\n",
            " args[1]: Status OK (tipe: str)\n",
            " args[2]: 99.9 (tipe: float)\n",
            " args[3]: False (tipe: bool)\n",
            "Tidak ada argumen kata kunci.\n",
            "---------------------------------\n",
            "\n",
            "Panggilan 3: Hanya argumen kata kunci\n",
            "\n",
            "--- DP-001 Memproses Data ---\n",
            "Tidak ada argumen posisi.\n",
            "Argumen Kata Kunci Diterima:\n",
            " user: admin (tipe: str)\n",
            " level: 5 (tipe: int)\n",
            " mode: verbose (tipe: str)\n",
            "---------------------------------\n",
            "\n",
            "Panggilan 4: Kombinasi argumen posisi dan kata kunci\n",
            "\n",
            "--- DP-001 Memproses Data ---\n",
            "Argumen Posisi Diterima:\n",
            " args[0]: Task-A (tipe: str)\n",
            " args[1]: Task-B (tipe: str)\n",
            "Argumen Kata Kunci Diterima:\n",
            " status: Running (tipe: str)\n",
            " priority: High (tipe: str)\n",
            " thread_id: 54321 (tipe: int)\n",
            "---------------------------------\n",
            "\n",
            "Panggilan 5: Argumen posisi kompleks\n",
            "\n",
            "--- DP-001 Memproses Data ---\n",
            "Argumen Posisi Diterima:\n",
            " args[0]: ['A1', 'B2', 'C3'] (tipe: list)\n",
            " args[1]: {'timeout': 30, 'retry': 3} (tipe: dict)\n",
            "Argumen Kata Kunci Diterima:\n",
            " owner: system (tipe: str)\n",
            " enabled: True (tipe: bool)\n",
            "---------------------------------\n"
          ]
        }
      ]
    },
    {
      "cell_type": "markdown",
      "source": [
        "# Praktikum 05: Kombinasi Polimorfisme (Inheritance & Duck Typing)"
      ],
      "metadata": {
        "id": "eG5xZbTlvcA_"
      }
    },
    {
      "cell_type": "code",
      "source": [
        "import math\n",
        "\n",
        "class Bentuk:\n",
        "    def nama_bentuk(self):\n",
        "        return \"Bentuk Generik\"\n",
        "\n",
        "    def hitung_luas(self):\n",
        "        raise NotImplementedError(\"Subclass harus mengimplementasikan metode ini\")\n",
        "\n",
        "class Lingkaran(Bentuk):\n",
        "    def __init__(self, radius):\n",
        "        self.radius = radius\n",
        "\n",
        "    def nama_bentuk(self):\n",
        "        return \"Lingkaran\"\n",
        "\n",
        "    def hitung_luas(self):\n",
        "        return math.pi * (self.radius ** 2)\n",
        "\n",
        "class Persegi(Bentuk):\n",
        "    def __init__(self, sisi):\n",
        "        self.sisi = sisi\n",
        "\n",
        "    def nama_bentuk(self):\n",
        "        return \"Persegi\"\n",
        "\n",
        "    def hitung_luas(self):\n",
        "        return self.sisi * self.sisi\n",
        "\n",
        "class TaplakMeja:\n",
        "    def __init__(self, panjang, lebar):\n",
        "        self.panjang = panjang\n",
        "        self.lebar = lebar\n",
        "\n",
        "    def hitung_luas(self):\n",
        "        return self.panjang * self.lebar\n",
        "\n",
        "    def deskripsi(self):\n",
        "        return f\"Taplak Meja {self.panjang}x{self.lebar}\"\n",
        "\n",
        "def tampilkan_info_luas(objek_dengan_luas):\n",
        "    print(\"-\" * 20)\n",
        "    try:\n",
        "        luas = objek_dengan_luas.hitung_luas()\n",
        "\n",
        "        try:\n",
        "            nama = objek_dengan_luas.nama_bentuk()\n",
        "        except AttributeError:\n",
        "            nama = type(objek_dengan_luas).__name__\n",
        "\n",
        "        print(f\"Objek: {nama}\")\n",
        "        print(f\"Luas : {luas:.2f}\")\n",
        "\n",
        "    except AttributeError:\n",
        "           print(f\"Objek {type(objek_dengan_luas).__name__} tidak dapat dihitung luasnya (metode tidak ditemukan).\")\n",
        "    except NotImplementedError:\n",
        "           print(f\"metode 'hitung_luas' belum diimplementasi untuk {type(objek_dengan_luas).__name__}.\")\n",
        "\n",
        "if __name__ == \"__main__\":\n",
        "    lingkaran1 = Lingkaran(7)\n",
        "    persegi1 = Persegi(5)\n",
        "    taplak1 = TaplakMeja(1.5, 0.8)\n",
        "    bentuk_dasar = Bentuk()\n",
        "    string_biasa = \"Ini string\"\n",
        "\n",
        "    daftar_item = [lingkaran1, persegi1, taplak1, bentuk_dasar, string_biasa]\n",
        "\n",
        "    print(\"Menampilkan Info Luas (Polimorfisme Campuran):\")\n",
        "    for item in daftar_item:\n",
        "        tampilkan_info_luas(item)"
      ],
      "metadata": {
        "id": "QmD78bSIvdgw",
        "outputId": "3303e7bd-37c0-4e86-fe84-56da64ce9008",
        "colab": {
          "base_uri": "https://localhost:8080/"
        }
      },
      "execution_count": 15,
      "outputs": [
        {
          "output_type": "stream",
          "name": "stdout",
          "text": [
            "Menampilkan Info Luas (Polimorfisme Campuran):\n",
            "--------------------\n",
            "Objek: Lingkaran\n",
            "Luas : 153.94\n",
            "--------------------\n",
            "Objek: Persegi\n",
            "Luas : 25.00\n",
            "--------------------\n",
            "Objek: TaplakMeja\n",
            "Luas : 1.20\n",
            "--------------------\n",
            "metode 'hitung_luas' belum diimplementasi untuk Bentuk.\n",
            "--------------------\n",
            "Objek str tidak dapat dihitung luasnya (metode tidak ditemukan).\n"
          ]
        }
      ]
    },
    {
      "cell_type": "markdown",
      "source": [
        "# Praktikum 06: Kontrol Perilaku Polimorfik dengan isinstance()"
      ],
      "metadata": {
        "id": "XFx-r-cA4Rgw"
      }
    },
    {
      "cell_type": "code",
      "source": [
        "class Burung:\n",
        "    def __init__(self, nama):\n",
        "        self.nama = nama\n",
        "    def terbang(self):\n",
        "        print(f\"{self.nama} terbang dengan cara umum.\")\n",
        "    def bersuara(self):\n",
        "        print(f\"{self.nama} mengeluarkan suara burung.\")\n",
        "\n",
        "class Elang(Burung):\n",
        "    def __init__(self, nama, rentang_sayap):\n",
        "        super().__init__(nama)\n",
        "        self.rentang_sayap = rentang_sayap\n",
        "    def terbang(self):\n",
        "        print(f\"{self.nama} terbang tinggi melayang di angkasa.\")\n",
        "    def bersuara(self):\n",
        "        print(f\"{self.nama} berteriak nyaring!\")\n",
        "    def berburu(self):\n",
        "        print(f\"{self.nama} sedang mecari mangsa dari ketinggian.\")\n",
        "\n",
        "class Pipit(Burung):\n",
        "    def __init__(self, nama, warna_bulu):\n",
        "        super().__init__(nama)\n",
        "        self.warna_bulu = warna_bulu\n",
        "    def terbang(self):\n",
        "        print(f\"{self.nama} terbang cepat diantara pepohonan.\")\n",
        "    def bersuara(self):\n",
        "        print(f\"{self.nama} berkicau merdu: Cit cit!\")\n",
        "    def membangun_sarang(self):\n",
        "        print(f\"{self.nama} sedang mengumpulkan ranting untuk sarang.\")\n",
        "\n",
        "def interaksi_dengan_burung(burung):\n",
        "    print(f\"\\n--- Berinteraksi dengan {type(burung).__name__}: {getattr(burung, 'nama', 'Objek tidak dikenal')} ---\")\n",
        "\n",
        "    if isinstance(burung, Burung):\n",
        "        burung.terbang()\n",
        "        burung.bersuara()\n",
        "\n",
        "        if isinstance(burung, Elang):\n",
        "            print(\"-> Ini adalah adalah Elang!\")\n",
        "            burung.berburu()\n",
        "        elif isinstance(burung, Pipit):\n",
        "            print(\"-> Ini adalah Pipit!\")\n",
        "            burung.membangun_sarang()\n",
        "        else:\n",
        "            print(\"-> Ini adalah burung jenis umum (bukan Elang/Pipit).\")\n",
        "    else:\n",
        "        print(\"-> Objek ini bukan termasuk jenis burung.\")\n",
        "    print(\"-\" * 25)\n",
        "\n",
        "if __name__ == \"__main__\":\n",
        "    elang_sumatra = Elang(\"Elang Sumatra\", 1.8)\n",
        "    pipit_rumah = Pipit(\"Pipit Rumah\", \"Abu-abu\")\n",
        "    merak = Burung(\"Merak\")\n",
        "    kucing_tetangga = \"Meong\"\n",
        "\n",
        "    koleksi_tetangga = [elang_sumatra, pipit_rumah, merak, kucing_tetangga]\n",
        "\n",
        "    for makhluk in koleksi_tetangga:\n",
        "        interaksi_dengan_burung(makhluk)"
      ],
      "metadata": {
        "id": "wZkDzRDA4VyQ",
        "outputId": "f979dd5d-6b10-4244-f5c2-9fb41b335eba",
        "colab": {
          "base_uri": "https://localhost:8080/"
        }
      },
      "execution_count": 21,
      "outputs": [
        {
          "output_type": "stream",
          "name": "stdout",
          "text": [
            "\n",
            "--- Berinteraksi dengan Elang: Elang Sumatra ---\n",
            "Elang Sumatra terbang tinggi melayang di angkasa.\n",
            "Elang Sumatra berteriak nyaring!\n",
            "-> Ini adalah adalah Elang!\n",
            "Elang Sumatra sedang mecari mangsa dari ketinggian.\n",
            "-------------------------\n",
            "\n",
            "--- Berinteraksi dengan Pipit: Pipit Rumah ---\n",
            "Pipit Rumah terbang cepat diantara pepohonan.\n",
            "Pipit Rumah berkicau merdu: Cit cit!\n",
            "-> Ini adalah Pipit!\n",
            "Pipit Rumah sedang mengumpulkan ranting untuk sarang.\n",
            "-------------------------\n",
            "\n",
            "--- Berinteraksi dengan Burung: Merak ---\n",
            "Merak terbang dengan cara umum.\n",
            "Merak mengeluarkan suara burung.\n",
            "-> Ini adalah burung jenis umum (bukan Elang/Pipit).\n",
            "-------------------------\n",
            "\n",
            "--- Berinteraksi dengan str: Objek tidak dikenal ---\n",
            "-> Objek ini bukan termasuk jenis burung.\n",
            "-------------------------\n"
          ]
        }
      ]
    },
    {
      "cell_type": "markdown",
      "source": [
        "# Program dan Kelas diagram untuk hierarki kelas Komputer dan mendemonstrasikan polimorfisme serta simulasi overloading"
      ],
      "metadata": {
        "id": "Uf02qvK7I6jn"
      }
    },
    {
      "cell_type": "code",
      "source": [
        "class Komputer:\n",
        "    def __init__(self, merk, processor, ram_gb):\n",
        "        self.merk = merk\n",
        "        self.processor = processor\n",
        "        self.ram_gb = ram_gb\n",
        "\n",
        "    def info_spesifikasi(self):\n",
        "        print(f\"Merk: {self.merk}\")\n",
        "        print(f\"Processor: {self.processor}\")\n",
        "        print(f\"RAM: {self.ram_gb} GB\")\n",
        "\n",
        "    def jalankan_aplikasi(self, nama_aplikasi):\n",
        "        print(f\"{self.merk} menjalankan aplikasi: {nama_aplikasi}...\")\n",
        "\n",
        "    def upgrade_ram(self, tambahan_gb, tipe_ram=\"DDR4\"):\n",
        "        self.ram_gb += tambahan_gb\n",
        "        print(f\"RAM {self.merk} diugrade sebesar {tambahan_gb} GB (Tipe: {tipe_ram}).\")\n",
        "        print(f\"Total RAM sekarang: {self.ram_gb} GB.\")\n",
        "\n",
        "class Laptop(Komputer):\n",
        "    def __init__(self, merk, processor, ram_gb, ukuran_layar_inch, berat_kg):\n",
        "        super().__init__(merk, processor, ram_gb)\n",
        "        self.ukuran_layar_inch = ukuran_layar_inch\n",
        "        self.berat_kg = berat_kg\n",
        "\n",
        "    def info_spesifikasi(self):\n",
        "        super().info_spesifikasi()\n",
        "        print(f\"Ukuran Layar: {self.ukuran_layar_inch} inch\")\n",
        "        print(f\"Berat: {self.berat_kg} Kg\")\n",
        "\n",
        "class Dekstop(Komputer):\n",
        "    def __init__(self, merk, processor, ram_gb, jenis_casing, monitor_external):\n",
        "        super().__init__(merk, processor, ram_gb)\n",
        "        self.jenis_casing = jenis_casing\n",
        "        self.monitor_external = monitor_external\n",
        "\n",
        "    def info_spesifikasi(self):\n",
        "        super().info_spesifikasi()\n",
        "        print(f\"Jenia Casing: {self.jenis_casing}\")\n",
        "        print(f\"Monitor External: {'Ya' if self.monitor_external else 'Tidak'}\")\n",
        "\n",
        "def cetak_semua_spesifikasi(daftar_komputer):\n",
        "    for komputer in daftar_komputer:\n",
        "        komputer.info_spesifikasi()\n",
        "        print(\"-\" * 40)\n",
        "\n",
        "if __name__ == \"__main__\":\n",
        "    laptop1 = Laptop(\"Asus\", \"Intel i5\", 8, 14.0, 1.5)\n",
        "    dekstop1 = Dekstop(\"Lenovo\", \"AMD Ryzen 5\", 16, \"Tower\", True)\n",
        "\n",
        "    daftar_komputer = [laptop1, dekstop1]\n",
        "    cetak_semua_spesifikasi(daftar_komputer)\n",
        "\n",
        "    laptop1.upgrade_ram(4)\n",
        "    dekstop1.upgrade_ram(8, \"DDR5\")"
      ],
      "metadata": {
        "id": "yvQfLcnWI-WX",
        "outputId": "94bb62da-ea81-4912-b025-fd72d4f198c9",
        "colab": {
          "base_uri": "https://localhost:8080/"
        }
      },
      "execution_count": 23,
      "outputs": [
        {
          "output_type": "stream",
          "name": "stdout",
          "text": [
            "Merk: Asus\n",
            "Processor: Intel i5\n",
            "RAM: 8 GB\n",
            "Ukuran Layar: 14.0 inch\n",
            "Berat: 1.5 Kg\n",
            "----------------------------------------\n",
            "Merk: Lenovo\n",
            "Processor: AMD Ryzen 5\n",
            "RAM: 16 GB\n",
            "Jenia Casing: Tower\n",
            "Monitor External: Ya\n",
            "----------------------------------------\n",
            "RAM Asus diugrade sebesar 4 GB (Tipe: DDR4).\n",
            "Total RAM sekarang: 12 GB.\n",
            "RAM Lenovo diugrade sebesar 8 GB (Tipe: DDR5).\n",
            "Total RAM sekarang: 24 GB.\n"
          ]
        }
      ]
    }
  ]
}