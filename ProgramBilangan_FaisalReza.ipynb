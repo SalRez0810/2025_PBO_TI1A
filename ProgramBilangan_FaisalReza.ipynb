{
  "nbformat": 4,
  "nbformat_minor": 0,
  "metadata": {
    "colab": {
      "provenance": [],
      "authorship_tag": "ABX9TyPbYR9GkC7HEeFgGlrWzsL8",
      "include_colab_link": true
    },
    "kernelspec": {
      "name": "python3",
      "display_name": "Python 3"
    },
    "language_info": {
      "name": "python"
    }
  },
  "cells": [
    {
      "cell_type": "markdown",
      "metadata": {
        "id": "view-in-github",
        "colab_type": "text"
      },
      "source": [
        "<a href=\"https://colab.research.google.com/github/SalRez0810/2025_PBO_TI1A/blob/main/ProgramBilangan_FaisalReza.ipynb\" target=\"_parent\"><img src=\"https://colab.research.google.com/assets/colab-badge.svg\" alt=\"Open In Colab\"/></a>"
      ]
    },
    {
      "cell_type": "code",
      "execution_count": 1,
      "metadata": {
        "id": "IIEtyjQ_swHQ",
        "outputId": "7c115205-8420-4c2a-8dfb-127b4e5fbda7",
        "colab": {
          "base_uri": "https://localhost:8080/"
        }
      },
      "outputs": [
        {
          "output_type": "stream",
          "name": "stdout",
          "text": [
            "Masukkan sebuah bilangan (atau ketik 0 untuk keluar): 5\n",
            "5 adalah bilangan ganjil.\n",
            "5 juga merupakan bilangan prima.\n",
            "Masukkan sebuah bilangan (atau ketik 0 untuk keluar): 6\n",
            "6 adalah bilangan genap.\n",
            "6 bukan bilangan prima.\n",
            "Masukkan sebuah bilangan (atau ketik 0 untuk keluar): 15\n",
            "15 adalah bilangan ganjil.\n",
            "15 bukan bilangan prima.\n",
            "Masukkan sebuah bilangan (atau ketik 0 untuk keluar): 0\n",
            "Program selesai.\n"
          ]
        }
      ],
      "source": [
        "def is_prime(n):\n",
        "    if n < 2:\n",
        "        return False\n",
        "    for i in range(2, int(n ** 0.5) + 1):\n",
        "        if n % i == 0:\n",
        "            return False\n",
        "    return True\n",
        "\n",
        "def check_number(n):\n",
        "    if n % 2 == 0:\n",
        "        print(f\"{n} adalah bilangan genap.\")\n",
        "    else:\n",
        "        print(f\"{n} adalah bilangan ganjil.\")\n",
        "\n",
        "    if is_prime(n):\n",
        "        print(f\"{n} juga merupakan bilangan prima.\")\n",
        "    else:\n",
        "        print(f\"{n} bukan bilangan prima.\")\n",
        "\n",
        "while True:\n",
        "    try:\n",
        "        num = int(input(\"Masukkan sebuah bilangan (atau ketik 0 untuk keluar): \"))\n",
        "        if num == 0:\n",
        "            print(\"Program selesai.\")\n",
        "            break\n",
        "        check_number(num)\n",
        "    except ValueError:\n",
        "        print(\"Harap masukkan bilangan bulat yang valid.\")"
      ]
    }
  ]
}